{
  "nbformat": 4,
  "nbformat_minor": 0,
  "metadata": {
    "colab": {
      "name": "Assignment-009/6 (Prime Numbers)",
      "provenance": []
    },
    "kernelspec": {
      "name": "python3",
      "display_name": "Python 3"
    },
    "language_info": {
      "name": "python"
    }
  },
  "cells": [
    {
      "cell_type": "code",
      "metadata": {
        "colab": {
          "base_uri": "https://localhost:8080/"
        },
        "id": "2V0Kt2MqKZoi",
        "outputId": "a4c72fc4-6309-4c4c-db1c-881d4939de78"
      },
      "source": [
        "n = 100\n",
        "primes = []\n",
        "\n",
        "for i in range(2, n + 1):\n",
        "\tfor j in range(2, int(i ** 0.5) + 1):\n",
        " \t\tif i%j == 0:\n",
        " \t\t\tbreak\n",
        "\telse:\n",
        "\t\tprimes.append(i)\n",
        "\n",
        "print(primes)"
      ],
      "execution_count": 1,
      "outputs": [
        {
          "output_type": "stream",
          "text": [
            "[2, 3, 5, 7, 11, 13, 17, 19, 23, 29, 31, 37, 41, 43, 47, 53, 59, 61, 67, 71, 73, 79, 83, 89, 97]\n"
          ],
          "name": "stdout"
        }
      ]
    },
    {
      "cell_type": "code",
      "metadata": {
        "id": "ya-_XOaWKaY3"
      },
      "source": [
        ""
      ],
      "execution_count": null,
      "outputs": []
    }
  ]
}